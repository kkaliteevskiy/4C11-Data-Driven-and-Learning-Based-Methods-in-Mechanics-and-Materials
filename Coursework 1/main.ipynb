{
 "cells": [
  {
   "cell_type": "code",
   "execution_count": 1,
   "metadata": {},
   "outputs": [],
   "source": [
    "import matplotlib.pyplot as plt\n",
    "import torch\n",
    "import torch.nn as nn\n",
    "import torch.utils.data as Data\n",
    "import numpy as np\n",
    "import matplotlib.pyplot as plt\n",
    "import h5py\n",
    "from Models import *\n",
    "from torch.utils.data import Dataset, DataLoader, TensorDataset\n",
    "from utils import *"
   ]
  },
  {
   "cell_type": "code",
   "execution_count": null,
   "metadata": {},
   "outputs": [],
   "source": [
    "matread = MatRead('Problem_1_student/Data/Material_C.mat')\n",
    "strain = matread.get_strain()\n",
    "stress = matread.get_stress()\n",
    "strain = strain.transpose(1,2)\n",
    "stress = stress.transpose(1,2)\n",
    "strain = strain / (strain.std(axis=(0,2)) + 1e-8).reshape(-1,1)\n",
    "stress = stress / (stress.std(axis=(0,2)) + 1e-8).reshape(-1,1)\n",
    "net = UNet_DenseBottleneck(6, 64)\n",
    "loss_fn = nn.MSELoss()\n",
    "optimiser = torch.optim.Adam(net.parameters(), lr=2e-4)"
   ]
  },
  {
   "cell_type": "code",
   "execution_count": 55,
   "metadata": {},
   "outputs": [],
   "source": [
    "# partition the data\n",
    "strain_train = strain[:770]\n",
    "strain_test = strain[770:]\n",
    "stress_train = stress[:770]\n",
    "stress_test = stress[770:]"
   ]
  },
  {
   "cell_type": "code",
   "execution_count": 56,
   "metadata": {},
   "outputs": [],
   "source": [
    "batch_size = 64\n",
    "train_loader = DataLoader(TensorDataset(strain_train, stress_train), batch_size=batch_size, shuffle=True)\n",
    "val_loader = DataLoader(TensorDataset(strain_test, stress_test), batch_size=batch_size, shuffle=False)"
   ]
  },
  {
   "cell_type": "code",
   "execution_count": 57,
   "metadata": {},
   "outputs": [],
   "source": [
    "from tqdm import tqdm\n",
    "losses = []\n",
    "test_losses = []"
   ]
  },
  {
   "cell_type": "code",
   "execution_count": 58,
   "metadata": {},
   "outputs": [
    {
     "name": "stdout",
     "output_type": "stream",
     "text": [
      "Epoch 0, Training loss: 0.940299433011275, Validation loss: 1.0007969240347545\n",
      "Epoch 10, Training loss: 0.34855867807681745, Validation loss: 0.3418545573949814\n",
      "Epoch 20, Training loss: 0.2766950405561007, Validation loss: 0.26846448332071304\n",
      "Epoch 30, Training loss: 0.22495573873703295, Validation loss: 0.22235832115014395\n",
      "Epoch 40, Training loss: 0.19669496669219091, Validation loss: 0.18828594436248144\n",
      "Epoch 50, Training loss: 0.1632575702208739, Validation loss: 0.16264480352401733\n",
      "Epoch 60, Training loss: 0.1653518951856173, Validation loss: 0.1507084717353185\n",
      "Epoch 70, Training loss: 0.1479164958000183, Validation loss: 0.14259393016497293\n",
      "Epoch 80, Training loss: 0.13343170485817468, Validation loss: 0.13358434538046518\n",
      "Epoch 90, Training loss: 0.13087701797485352, Validation loss: 0.1254086196422577\n",
      "Epoch 100, Training loss: 0.11916261109021994, Validation loss: 0.11841049169500668\n",
      "Epoch 110, Training loss: 0.11685727995175582, Validation loss: 0.11413208519419034\n",
      "Epoch 120, Training loss: 0.11058955553632516, Validation loss: 0.10935858016212781\n",
      "Epoch 130, Training loss: 0.10506290369308911, Validation loss: 0.10475956896940868\n",
      "Epoch 140, Training loss: 0.1035611738379185, Validation loss: 0.10289618869622548\n",
      "Epoch 150, Training loss: 0.09458383230062631, Validation loss: 0.0965749981502692\n",
      "Epoch 160, Training loss: 0.09912334095973235, Validation loss: 0.09276490410168965\n",
      "Epoch 170, Training loss: 0.0945320249750064, Validation loss: 0.0896318294107914\n",
      "Epoch 180, Training loss: 0.09338965152318661, Validation loss: 0.08793151254455249\n",
      "Epoch 190, Training loss: 0.08172870527666348, Validation loss: 0.0856321429212888\n",
      "Epoch 200, Training loss: 0.09113125674999677, Validation loss: 0.08338758287330468\n",
      "Epoch 210, Training loss: 0.08072885956901771, Validation loss: 0.08217245091994603\n",
      "Epoch 220, Training loss: 0.08634249178262857, Validation loss: 0.07996477310856183\n",
      "Epoch 230, Training loss: 0.07670083527381603, Validation loss: 0.07840028343101342\n",
      "Epoch 240, Training loss: 0.0872511502641898, Validation loss: 0.07621658407151699\n",
      "Epoch 250, Training loss: 0.08477230484669025, Validation loss: 0.07379391913612683\n",
      "Epoch 260, Training loss: 0.07229686585756448, Validation loss: 0.0711294033875068\n",
      "Epoch 270, Training loss: 0.0654790627841766, Validation loss: 0.06851698954900105\n",
      "Epoch 280, Training loss: 0.07082957086654809, Validation loss: 0.06662486307322979\n",
      "Epoch 290, Training loss: 0.06858814851595806, Validation loss: 0.06631941845019658\n",
      "Epoch 300, Training loss: 0.06347496778919147, Validation loss: 0.06469191114107768\n",
      "Epoch 310, Training loss: 0.06648666268357864, Validation loss: 0.06290561084945996\n",
      "Epoch 320, Training loss: 0.06637756096628997, Validation loss: 0.06153514236211777\n",
      "Epoch 330, Training loss: 0.0586395300924778, Validation loss: 0.061445433646440506\n",
      "Epoch 340, Training loss: 0.057937231058111556, Validation loss: 0.06095766400297483\n",
      "Epoch 350, Training loss: 0.05735383741557598, Validation loss: 0.05982847325503826\n",
      "Epoch 360, Training loss: 0.061131539539648935, Validation loss: 0.06072689841190974\n",
      "Epoch 370, Training loss: 0.06228923052549362, Validation loss: 0.059717380131284394\n",
      "Epoch 380, Training loss: 0.054505372419953346, Validation loss: 0.058103022476037346\n",
      "Epoch 390, Training loss: 0.05908086408789341, Validation loss: 0.05831299535930157\n",
      "Epoch 400, Training loss: 0.055717408370513186, Validation loss: 0.05650892108678818\n",
      "Epoch 410, Training loss: 0.05587635963008954, Validation loss: 0.0568685308098793\n",
      "Epoch 420, Training loss: 0.05541702245290463, Validation loss: 0.05551903322339058\n",
      "Epoch 430, Training loss: 0.05319639581900377, Validation loss: 0.05399383914967378\n",
      "Epoch 440, Training loss: 0.04966606830175106, Validation loss: 0.05321528079609076\n",
      "Epoch 450, Training loss: 0.053201816976070404, Validation loss: 0.05372845443586508\n",
      "Epoch 460, Training loss: 0.04965821796884903, Validation loss: 0.052169049779574074\n",
      "Epoch 470, Training loss: 0.04693055339157581, Validation loss: 0.05196132448812326\n",
      "Epoch 480, Training loss: 0.045444671566096634, Validation loss: 0.05086388563116392\n",
      "Epoch 490, Training loss: 0.044347804541198105, Validation loss: 0.04982954263687134\n",
      "Epoch 500, Training loss: 0.04768477380275726, Validation loss: 0.05087159449855486\n",
      "Epoch 510, Training loss: 0.04570823506667064, Validation loss: 0.04904386463264624\n",
      "Epoch 520, Training loss: 0.04341581693062416, Validation loss: 0.04854438453912735\n",
      "Epoch 530, Training loss: 0.042977913067891046, Validation loss: 0.048409088825186096\n",
      "Epoch 540, Training loss: 0.046573917739666425, Validation loss: 0.04793105895320574\n",
      "Epoch 550, Training loss: 0.04115275393884916, Validation loss: 0.047029790778954826\n",
      "Epoch 560, Training loss: 0.04048774355592636, Validation loss: 0.046549584716558456\n",
      "Epoch 570, Training loss: 0.04374553320499567, Validation loss: 0.047367426877220474\n",
      "Epoch 580, Training loss: 0.04006406235007139, Validation loss: 0.045390170688430466\n",
      "Epoch 590, Training loss: 0.04265688417049555, Validation loss: 0.04580169419447581\n",
      "Epoch 600, Training loss: 0.040590028350169845, Validation loss: 0.04546432321270307\n",
      "Epoch 610, Training loss: 0.038541946273583635, Validation loss: 0.04544289782643318\n",
      "Epoch 620, Training loss: 0.04078866312137017, Validation loss: 0.0458298542847236\n",
      "Epoch 630, Training loss: 0.03788585359087357, Validation loss: 0.044297014052669205\n",
      "Epoch 640, Training loss: 0.037756989208551556, Validation loss: 0.04438858603437742\n",
      "Epoch 650, Training loss: 0.038140665739774704, Validation loss: 0.043577391654253006\n",
      "Epoch 660, Training loss: 0.04260302994113702, Validation loss: 0.046060021966695786\n",
      "Epoch 670, Training loss: 0.03977427459680117, Validation loss: 0.0433503370732069\n",
      "Epoch 680, Training loss: 0.03491524556794992, Validation loss: 0.0427826102823019\n",
      "Epoch 690, Training loss: 0.03633952384384779, Validation loss: 0.043353295574585594\n",
      "Epoch 700, Training loss: 0.03620607936038421, Validation loss: 0.04242218347887198\n",
      "Epoch 710, Training loss: 0.03619252345882929, Validation loss: 0.04315130536754926\n",
      "Epoch 720, Training loss: 0.036037806708079115, Validation loss: 0.04213884534935156\n",
      "Epoch 730, Training loss: 0.038547409555086724, Validation loss: 0.04279933497309685\n",
      "Epoch 740, Training loss: 0.03481249941083101, Validation loss: 0.04205880810817083\n",
      "Epoch 750, Training loss: 0.03251266601280524, Validation loss: 0.041127730160951614\n",
      "Epoch 760, Training loss: 0.03798184787424711, Validation loss: 0.041951329136888184\n",
      "Epoch 770, Training loss: 0.03439495110741028, Validation loss: 0.04144874463478724\n",
      "Epoch 780, Training loss: 0.03307241889146658, Validation loss: 0.04103564905623595\n",
      "Epoch 790, Training loss: 0.0326842711522029, Validation loss: 0.04100391765435537\n",
      "Epoch 800, Training loss: 0.03253351352535761, Validation loss: 0.04045843022565047\n",
      "Epoch 810, Training loss: 0.030639819944134124, Validation loss: 0.03957667884727319\n",
      "Epoch 820, Training loss: 0.030479060485959053, Validation loss: 0.03940974548459053\n",
      "Epoch 830, Training loss: 0.0325121134519577, Validation loss: 0.03996901586651802\n",
      "Epoch 840, Training loss: 0.03333730895358782, Validation loss: 0.04052276040116946\n",
      "Epoch 850, Training loss: 0.03130036076674095, Validation loss: 0.03937203995883465\n",
      "Epoch 860, Training loss: 0.030486386985732958, Validation loss: 0.03896540900071462\n",
      "Epoch 870, Training loss: 0.02910433466044756, Validation loss: 0.03864643909037113\n",
      "Epoch 880, Training loss: 0.02845082560983988, Validation loss: 0.03876264703770479\n",
      "Epoch 890, Training loss: 0.030616609236368768, Validation loss: 0.04067459888756275\n",
      "Epoch 900, Training loss: 0.03021307819737838, Validation loss: 0.03802495511869589\n",
      "Epoch 910, Training loss: 0.028414207940491345, Validation loss: 0.038196985920270286\n",
      "Epoch 920, Training loss: 0.028728829696774483, Validation loss: 0.03733642213046551\n",
      "Epoch 930, Training loss: 0.0274226744301044, Validation loss: 0.03706346948941549\n",
      "Epoch 940, Training loss: 0.028862813057807777, Validation loss: 0.037852258111039795\n",
      "Epoch 950, Training loss: 0.027239674129165135, Validation loss: 0.03708484768867493\n",
      "Epoch 960, Training loss: 0.03151074696618777, Validation loss: 0.04384184069931507\n",
      "Epoch 970, Training loss: 0.026819537966870345, Validation loss: 0.03830497898161411\n",
      "Epoch 980, Training loss: 0.029176414299469728, Validation loss: 0.03751249549289545\n",
      "Epoch 990, Training loss: 0.026850899681448936, Validation loss: 0.03682981493572394\n"
     ]
    }
   ],
   "source": [
    "for epoch in range(1000):\n",
    "\n",
    "    net.train()\n",
    "    running_loss = 0.0\n",
    "\n",
    "    for batch_idx, (strain_batch, stress_batch) in enumerate(train_loader):\n",
    "        optimiser.zero_grad()\n",
    "        y = net.forward(strain_batch)\n",
    "        loss = loss_fn(y, stress_batch)\n",
    "        loss.backward()\n",
    "        optimiser.step()\n",
    "        running_loss += loss.item()\n",
    "    avg_loss = running_loss / len(train_loader)\n",
    "    losses.append(avg_loss)\n",
    "\n",
    "    with torch.no_grad():  # Disable gradient calculation for validation\n",
    "        running_val_loss = 0.0\n",
    "        for strain_batch, stress_batch in val_loader:\n",
    "            output = net(strain_batch)  # Forward pass\n",
    "            val_loss = loss_fn(output, stress_batch)\n",
    "            running_val_loss += val_loss.item()\n",
    "\n",
    "        avg_val_loss = running_val_loss / len(val_loader)\n",
    "        test_losses.append(avg_val_loss)\n",
    "    \n",
    "    if epoch % 10 == 0:\n",
    "        print(f\"Epoch {epoch}, Training loss: {avg_loss}, Validation loss: {avg_val_loss}\")\n"
   ]
  },
  {
   "cell_type": "code",
   "execution_count": 59,
   "metadata": {},
   "outputs": [
    {
     "data": {
      "text/plain": [
       "<matplotlib.legend.Legend at 0x162140a22a0>"
      ]
     },
     "execution_count": 59,
     "metadata": {},
     "output_type": "execute_result"
    },
    {
     "data": {
      "image/png": "[encoded data removed]",
      "text/plain": [
       "<Figure size 640x480 with 1 Axes>"
      ]
     },
     "metadata": {},
     "output_type": "display_data"
    }
   ],
   "source": [
    "plt.plot(losses, label='Training Loss')\n",
    "plt.plot(test_losses, label='Test Loss')\n",
    "plt.yscale('log')\n",
    "plt.legend()"
   ]
  },
  {
   "cell_type": "code",
   "execution_count": null,
   "metadata": {},
   "outputs": [],
   "source": [
    "x_test = strain_test[20].unsqueeze(0)\n",
    "y_true = stress_test[20].unsqueeze(0)\n",
    "y_pred = net.forward(x_test)\n",
    "# plt.plot(x_test[0,0].squeeze(0).detach().numpy(), label='strain')\n",
    "plt.plot(x_test[0,0].detach().numpy(), y_true[0,0].squeeze(0).detach().numpy(), label='true stress')\n",
    "plt.plot(x_test[0,0].detach().numpy(), y_pred[0,0].squeeze(0).detach().numpy(), label='predicted stress')\n",
    "plt.legend()\n",
    "y_pred.squeeze(0).shape"
   ]
  },
  {
   "cell_type": "code",
   "execution_count": null,
   "metadata": {},
   "outputs": [
    {
     "data": {
      "text/plain": [
       "torch.Size([1, 50, 1])"
      ]
     },
     "execution_count": 41,
     "metadata": {},
     "output_type": "execute_result"
    }
   ],
   "source": [
    "y_pred.shape"
   ]
  },
  {
   "cell_type": "code",
   "execution_count": null,
   "metadata": {},
   "outputs": [],
   "source": [
    "data_files = ['Problem_1_student/Data/Material_A.mat', 'Problem_1_student/Data/Material_B.mat', 'Problem_1_student/Data/Material_C.mat']\n",
    "materials = ['A', 'B', 'C']\n",
    "hidden_dims = [0, 16, 64]"
   ]
  },
  {
   "cell_type": "code",
   "execution_count": 71,
   "metadata": {},
   "outputs": [
    {
     "name": "stderr",
     "output_type": "stream",
     "text": [
      "c:\\Users\\kiril\\AppData\\Local\\Programs\\Python\\Python312\\Lib\\site-packages\\torch\\nn\\init.py:452: UserWarning: Initializing zero-element tensors is a no-op\n",
      "  warnings.warn(\"Initializing zero-element tensors is a no-op\")\n"
     ]
    }
   ],
   "source": [
    "models = {} # [material, hidden_dim]: model\n",
    "test_losses = {} # [material, hidden_dim]: [test_losses]\n",
    "train_losses = {} # [material, hidden_dim]: [train_losses]\n",
    "for material in materials:\n",
    "    for dim in hidden_dims:\n",
    "        losses[material, dim] = []\n",
    "        if material != 'C':\n",
    "            models[material, dim] = UNet_DenseBottleneck(6, dim)\n",
    "        else:\n",
    "            models[material, dim] = UNet_DenseBottleneck(1, dim)\n",
    "\n",
    "        test_losses[material, dim] = []\n",
    "        train_losses[material, dim] = []"
   ]
  },
  {
   "cell_type": "code",
   "execution_count": 72,
   "metadata": {},
   "outputs": [
    {
     "name": "stdout",
     "output_type": "stream",
     "text": [
      "A 0 17860\n",
      "A 16 30164\n",
      "A 64 67076\n",
      "B 0 17860\n",
      "B 16 30164\n",
      "B 64 67076\n",
      "C 0 17190\n",
      "C 16 29494\n",
      "C 64 66406\n"
     ]
    }
   ],
   "source": [
    "for material, dim in losses.keys():\n",
    "    print(material, dim, count_trainable_parameters(models[material, dim]))"
   ]
  },
  {
   "cell_type": "code",
   "execution_count": 73,
   "metadata": {},
   "outputs": [
    {
     "name": "stderr",
     "output_type": "stream",
     "text": [
      "c:\\Users\\kiril\\AppData\\Local\\Programs\\Python\\Python312\\Lib\\site-packages\\torch\\nn\\modules\\conv.py:306: UserWarning: Using padding='same' with even kernel lengths and odd dilation may require a zero-padded copy of the input be created (Triggered internally at ..\\aten\\src\\ATen\\native\\Convolution.cpp:1032.)\n",
      "  return F.conv1d(input, weight, bias, self.stride,\n"
     ]
    },
    {
     "name": "stdout",
     "output_type": "stream",
     "text": [
      "Materail: A, 'Bottleneck Dims: 0, Epoch: 0, Training loss: 0.6689422061810126, Validation loss: 0.7338605026404063\n",
      "Materail: A, 'Bottleneck Dims: 0, Epoch: 10, Training loss: 0.6120539834866157, Validation loss: 0.6163104474544525\n",
      "Materail: A, 'Bottleneck Dims: 16, Epoch: 0, Training loss: 0.7599356403717628, Validation loss: 0.7450224558512369\n",
      "Materail: A, 'Bottleneck Dims: 16, Epoch: 10, Training loss: 0.5051089318899008, Validation loss: 0.4825282295544942\n",
      "Materail: A, 'Bottleneck Dims: 64, Epoch: 0, Training loss: 0.6456021758226248, Validation loss: 0.6522136628627777\n",
      "Materail: A, 'Bottleneck Dims: 64, Epoch: 10, Training loss: 0.4362626878114847, Validation loss: 0.42737094064553577\n",
      "Materail: B, 'Bottleneck Dims: 0, Epoch: 0, Training loss: 1.0601219122226422, Validation loss: 1.0193231801191966\n",
      "Materail: B, 'Bottleneck Dims: 0, Epoch: 10, Training loss: 0.8460951997683599, Validation loss: 0.814567377169927\n",
      "Materail: B, 'Bottleneck Dims: 16, Epoch: 0, Training loss: 1.0340278423749483, Validation loss: 0.9802399774392446\n",
      "Materail: B, 'Bottleneck Dims: 16, Epoch: 10, Training loss: 0.8011816785885737, Validation loss: 0.7810538709163666\n",
      "Materail: B, 'Bottleneck Dims: 64, Epoch: 0, Training loss: 0.9840983702586248, Validation loss: 0.9806585212548574\n",
      "Materail: B, 'Bottleneck Dims: 64, Epoch: 10, Training loss: 0.7295445433029761, Validation loss: 0.7005681892236074\n",
      "Materail: C, 'Bottleneck Dims: 0, Epoch: 0, Training loss: 1.2382246164175181, Validation loss: 1.347340742746989\n",
      "Materail: C, 'Bottleneck Dims: 0, Epoch: 10, Training loss: 0.8652145449931805, Validation loss: 0.9683582882086436\n",
      "Materail: C, 'Bottleneck Dims: 16, Epoch: 0, Training loss: 1.0409536957740784, Validation loss: 1.1033941904703777\n",
      "Materail: C, 'Bottleneck Dims: 16, Epoch: 10, Training loss: 0.8652615409630996, Validation loss: 0.8669153153896332\n",
      "Materail: C, 'Bottleneck Dims: 64, Epoch: 0, Training loss: 1.033664345741272, Validation loss: 1.1036456028620403\n",
      "Materail: C, 'Bottleneck Dims: 64, Epoch: 10, Training loss: 0.6013896465301514, Validation loss: 0.5831627051035563\n"
     ]
    }
   ],
   "source": [
    "for material in materials:\n",
    "    matread = MatRead(f'Problem_1_student/Data/Material_{material}.mat')\n",
    "    strain = matread.get_strain()\n",
    "    stress = matread.get_stress()\n",
    "    strain = strain.transpose(1,2)\n",
    "    stress = stress.transpose(1,2)\n",
    "    #normalise the data\n",
    "    strain = strain / (strain.std(axis=(0,2)) + 1e-8).reshape(-1,1)\n",
    "    stress = stress / (stress.std(axis=(0,2)) + 1e-8).reshape(-1,1)\n",
    "\n",
    "    # partition the data\n",
    "    strain_train = strain[:770]\n",
    "    strain_test = strain[770:]\n",
    "    stress_train = stress[:770]\n",
    "    stress_test = stress[770:]\n",
    "\n",
    "    #create data loaders\n",
    "    test_loader = DataLoader(TensorDataset(strain_test, stress_test), batch_size=batch_size, shuffle=False)\n",
    "    train_loader = DataLoader(TensorDataset(strain_train, stress_train), batch_size=batch_size, shuffle=True)\n",
    "\n",
    "    for dim in hidden_dims:\n",
    "        net = models[material, dim]\n",
    "        loss_fn = nn.MSELoss()\n",
    "        optimiser = torch.optim.Adam(net.parameters(), lr=2e-4)\n",
    "        batch_size = 64\n",
    "        train_loader = DataLoader(TensorDataset(strain_train, stress_train), batch_size=batch_size, shuffle=True)\n",
    "        val_loader = DataLoader(TensorDataset(strain_test, stress_test), batch_size=batch_size, shuffle=False)\n",
    "        train_loss = []\n",
    "        test_loss = []\n",
    "\n",
    "        for epoch in range(11):\n",
    "            net.train()\n",
    "            running_loss = 0.0\n",
    "\n",
    "            for batch_idx, (strain_batch, stress_batch) in enumerate(train_loader):\n",
    "                optimiser.zero_grad()\n",
    "                y = net.forward(strain_batch)\n",
    "                loss = loss_fn(y, stress_batch)\n",
    "                loss.backward()\n",
    "                optimiser.step()\n",
    "                running_loss += loss.item()\n",
    "            avg_loss = running_loss / len(train_loader)\n",
    "            train_loss.append(avg_loss)\n",
    "\n",
    "            with torch.no_grad():  # Disable gradient calculation for validation\n",
    "                running_val_loss = 0.0\n",
    "                for strain_batch, stress_batch in val_loader:\n",
    "                    output = net(strain_batch)  # Forward pass\n",
    "                    val_loss = loss_fn(output, stress_batch)\n",
    "                    running_val_loss += val_loss.item()\n",
    "\n",
    "                avg_val_loss = running_val_loss / len(val_loader)\n",
    "                test_loss.append(avg_val_loss)\n",
    "            \n",
    "            if epoch % 10 == 0:\n",
    "                print(f\"Materail: {material}, 'Bottleneck Dims: {dim}, Epoch: {epoch}, Training loss: {avg_loss}, Validation loss: {avg_val_loss}\")\n",
    "\n",
    "\n",
    "        train_losses[material, dim] = train_loss\n",
    "        test_losses[material, dim] = test_loss\n"
   ]
  }
 ],
 "metadata": {
  "kernelspec": {
   "display_name": "Python 3",
   "language": "python",
   "name": "python3"
  },
  "language_info": {
   "codemirror_mode": {
    "name": "ipython",
    "version": 3
   },
   "file_extension": ".py",
   "mimetype": "text/x-python",
   "name": "python",
   "nbconvert_exporter": "python",
   "pygments_lexer": "ipython3",
   "version": "3.12.0"
  }
 },
 "nbformat": 4,
 "nbformat_minor": 2
}
